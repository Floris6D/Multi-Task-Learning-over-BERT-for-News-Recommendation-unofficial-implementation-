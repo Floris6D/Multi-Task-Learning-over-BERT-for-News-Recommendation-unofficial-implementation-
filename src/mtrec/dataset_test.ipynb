{
 "cells": [
  {
   "cell_type": "code",
   "execution_count": 31,
   "metadata": {},
   "outputs": [],
   "source": [
    "import os\n",
    "import polars as pl"
   ]
  },
  {
   "cell_type": "code",
   "execution_count": 32,
   "metadata": {},
   "outputs": [],
   "source": [
    "from pathlib import Path\n",
    "\n",
    "from ebrec.utils._descriptive_analysis import (\n",
    "    min_max_impression_time_behaviors, \n",
    "    min_max_impression_time_history\n",
    ")\n",
    "from ebrec.utils._polars import slice_join_dataframes\n",
    "from ebrec.utils._behaviors import (\n",
    "    create_binary_labels_column,\n",
    "    sampling_strategy_wu2019,\n",
    "    truncate_history,\n",
    ")\n",
    "from ebrec.utils._constants import (\n",
    "    DEFAULT_HISTORY_ARTICLE_ID_COL,\n",
    "    DEFAULT_CLICKED_ARTICLES_COL,\n",
    "    DEFAULT_INVIEW_ARTICLES_COL,\n",
    "    DEFAULT_USER_COL\n",
    ")"
   ]
  },
  {
   "cell_type": "code",
   "execution_count": 18,
   "metadata": {},
   "outputs": [
    {
     "data": {
      "text/html": [
       "<div><style>\n",
       ".dataframe > thead > tr,\n",
       ".dataframe > tbody > tr {\n",
       "  text-align: right;\n",
       "  white-space: pre-wrap;\n",
       "}\n",
       "</style>\n",
       "<small>shape: (5, 17)</small><table border=\"1\" class=\"dataframe\"><thead><tr><th>impression_id</th><th>article_id</th><th>impression_time</th><th>read_time</th><th>scroll_percentage</th><th>device_type</th><th>article_ids_inview</th><th>article_ids_clicked</th><th>user_id</th><th>is_sso_user</th><th>gender</th><th>postcode</th><th>age</th><th>is_subscriber</th><th>session_id</th><th>next_read_time</th><th>next_scroll_percentage</th></tr><tr><td>u32</td><td>i32</td><td>datetime[μs]</td><td>f32</td><td>f32</td><td>i8</td><td>list[i32]</td><td>list[i32]</td><td>u32</td><td>bool</td><td>i8</td><td>i8</td><td>i8</td><td>bool</td><td>u32</td><td>f32</td><td>f32</td></tr></thead><tbody><tr><td>48401</td><td>null</td><td>2023-05-21 21:06:50</td><td>21.0</td><td>null</td><td>2</td><td>[9774516, 9771051, … 9759966]</td><td>[9759966]</td><td>22779</td><td>false</td><td>null</td><td>null</td><td>null</td><td>false</td><td>21</td><td>16.0</td><td>27.0</td></tr><tr><td>152513</td><td>9778745</td><td>2023-05-24 07:31:26</td><td>30.0</td><td>100.0</td><td>1</td><td>[9778669, 9778736, … 9777397]</td><td>[9778661]</td><td>150224</td><td>false</td><td>null</td><td>null</td><td>null</td><td>false</td><td>298</td><td>2.0</td><td>48.0</td></tr><tr><td>155390</td><td>null</td><td>2023-05-24 07:30:33</td><td>45.0</td><td>null</td><td>1</td><td>[9778369, 9777856, … 9778448]</td><td>[9777856]</td><td>160892</td><td>false</td><td>null</td><td>null</td><td>null</td><td>false</td><td>401</td><td>215.0</td><td>100.0</td></tr><tr><td>214679</td><td>null</td><td>2023-05-23 05:25:40</td><td>33.0</td><td>null</td><td>2</td><td>[9776715, 9776406, … 9776855]</td><td>[9776566]</td><td>1001055</td><td>false</td><td>null</td><td>null</td><td>null</td><td>false</td><td>1357</td><td>40.0</td><td>47.0</td></tr><tr><td>214681</td><td>null</td><td>2023-05-23 05:31:54</td><td>21.0</td><td>null</td><td>2</td><td>[9775202, 9776855, … 9776570]</td><td>[9776553]</td><td>1001055</td><td>false</td><td>null</td><td>null</td><td>null</td><td>false</td><td>1358</td><td>5.0</td><td>49.0</td></tr></tbody></table></div>"
      ],
      "text/plain": [
       "shape: (5, 17)\n",
       "┌───────────┬───────────┬───────────┬───────────┬───┬───────────┬───────────┬───────────┬──────────┐\n",
       "│ impressio ┆ article_i ┆ impressio ┆ read_time ┆ … ┆ is_subscr ┆ session_i ┆ next_read ┆ next_scr │\n",
       "│ n_id      ┆ d         ┆ n_time    ┆ ---       ┆   ┆ iber      ┆ d         ┆ _time     ┆ oll_perc │\n",
       "│ ---       ┆ ---       ┆ ---       ┆ f32       ┆   ┆ ---       ┆ ---       ┆ ---       ┆ entage   │\n",
       "│ u32       ┆ i32       ┆ datetime[ ┆           ┆   ┆ bool      ┆ u32       ┆ f32       ┆ ---      │\n",
       "│           ┆           ┆ μs]       ┆           ┆   ┆           ┆           ┆           ┆ f32      │\n",
       "╞═══════════╪═══════════╪═══════════╪═══════════╪═══╪═══════════╪═══════════╪═══════════╪══════════╡\n",
       "│ 48401     ┆ null      ┆ 2023-05-2 ┆ 21.0      ┆ … ┆ false     ┆ 21        ┆ 16.0      ┆ 27.0     │\n",
       "│           ┆           ┆ 1         ┆           ┆   ┆           ┆           ┆           ┆          │\n",
       "│           ┆           ┆ 21:06:50  ┆           ┆   ┆           ┆           ┆           ┆          │\n",
       "│ 152513    ┆ 9778745   ┆ 2023-05-2 ┆ 30.0      ┆ … ┆ false     ┆ 298       ┆ 2.0       ┆ 48.0     │\n",
       "│           ┆           ┆ 4         ┆           ┆   ┆           ┆           ┆           ┆          │\n",
       "│           ┆           ┆ 07:31:26  ┆           ┆   ┆           ┆           ┆           ┆          │\n",
       "│ 155390    ┆ null      ┆ 2023-05-2 ┆ 45.0      ┆ … ┆ false     ┆ 401       ┆ 215.0     ┆ 100.0    │\n",
       "│           ┆           ┆ 4         ┆           ┆   ┆           ┆           ┆           ┆          │\n",
       "│           ┆           ┆ 07:30:33  ┆           ┆   ┆           ┆           ┆           ┆          │\n",
       "│ 214679    ┆ null      ┆ 2023-05-2 ┆ 33.0      ┆ … ┆ false     ┆ 1357      ┆ 40.0      ┆ 47.0     │\n",
       "│           ┆           ┆ 3         ┆           ┆   ┆           ┆           ┆           ┆          │\n",
       "│           ┆           ┆ 05:25:40  ┆           ┆   ┆           ┆           ┆           ┆          │\n",
       "│ 214681    ┆ null      ┆ 2023-05-2 ┆ 21.0      ┆ … ┆ false     ┆ 1358      ┆ 5.0       ┆ 49.0     │\n",
       "│           ┆           ┆ 3         ┆           ┆   ┆           ┆           ┆           ┆          │\n",
       "│           ┆           ┆ 05:31:54  ┆           ┆   ┆           ┆           ┆           ┆          │\n",
       "└───────────┴───────────┴───────────┴───────────┴───┴───────────┴───────────┴───────────┴──────────┘"
      ]
     },
     "execution_count": 18,
     "metadata": {},
     "output_type": "execute_result"
    }
   ],
   "source": [
    "FULL_PATH = os.path.join(\"../../data_demo\", 'train')\n",
    "\n",
    "# Load the data\n",
    "df_behaviors = pl.scan_parquet(os.path.join(FULL_PATH, 'behaviors.parquet'))\n",
    "df_history = pl.scan_parquet(os.path.join(FULL_PATH, 'history.parquet'))\n",
    "df_articles = pl.scan_parquet(os.path.join(\"../../data_demo\", 'articles.parquet'))\n",
    "\n",
    "df_behaviors.head(5).collect()"
   ]
  },
  {
   "cell_type": "code",
   "execution_count": 19,
   "metadata": {},
   "outputs": [
    {
     "data": {
      "text/html": [
       "<div><style>\n",
       ".dataframe > thead > tr,\n",
       ".dataframe > tbody > tr {\n",
       "  text-align: right;\n",
       "  white-space: pre-wrap;\n",
       "}\n",
       "</style>\n",
       "<small>shape: (5, 5)</small><table border=\"1\" class=\"dataframe\"><thead><tr><th>user_id</th><th>impression_time_fixed</th><th>scroll_percentage_fixed</th><th>article_id_fixed</th><th>read_time_fixed</th></tr><tr><td>u32</td><td>list[datetime[μs]]</td><td>list[f32]</td><td>list[i32]</td><td>list[f32]</td></tr></thead><tbody><tr><td>13538</td><td>[2023-04-27 10:17:43, 2023-04-27 10:18:01, … 2023-05-17 20:36:34]</td><td>[100.0, 35.0, … 100.0]</td><td>[9738663, 9738569, … 9769366]</td><td>[17.0, 12.0, … 16.0]</td></tr><tr><td>58608</td><td>[2023-04-27 18:48:09, 2023-04-27 18:48:45, … 2023-05-17 19:46:40]</td><td>[37.0, 61.0, … null]</td><td>[9739362, 9739179, … 9770333]</td><td>[2.0, 24.0, … 0.0]</td></tr><tr><td>95507</td><td>[2023-04-27 15:20:28, 2023-04-27 15:20:47, … 2023-05-17 14:57:46]</td><td>[60.0, 100.0, … null]</td><td>[9739035, 9738646, … 9769450]</td><td>[18.0, 29.0, … 0.0]</td></tr><tr><td>106588</td><td>[2023-04-27 08:29:09, 2023-04-27 08:29:26, … 2023-05-16 05:50:52]</td><td>[24.0, 57.0, … 100.0]</td><td>[9738292, 9738216, … 9747803]</td><td>[9.0, 15.0, … 33.0]</td></tr><tr><td>617963</td><td>[2023-04-27 14:42:25, 2023-04-27 14:43:10, … 2023-05-18 02:28:09]</td><td>[100.0, 100.0, … 90.0]</td><td>[9739035, 9739088, … 9770798]</td><td>[45.0, 29.0, … 22.0]</td></tr></tbody></table></div>"
      ],
      "text/plain": [
       "shape: (5, 5)\n",
       "┌─────────┬──────────────────────┬─────────────────────┬─────────────────────┬─────────────────────┐\n",
       "│ user_id ┆ impression_time_fixe ┆ scroll_percentage_f ┆ article_id_fixed    ┆ read_time_fixed     │\n",
       "│ ---     ┆ d                    ┆ ixed                ┆ ---                 ┆ ---                 │\n",
       "│ u32     ┆ ---                  ┆ ---                 ┆ list[i32]           ┆ list[f32]           │\n",
       "│         ┆ list[datetime[μs]]   ┆ list[f32]           ┆                     ┆                     │\n",
       "╞═════════╪══════════════════════╪═════════════════════╪═════════════════════╪═════════════════════╡\n",
       "│ 13538   ┆ [2023-04-27          ┆ [100.0, 35.0, …     ┆ [9738663, 9738569,  ┆ [17.0, 12.0, …      │\n",
       "│         ┆ 10:17:43, 2023-04-…  ┆ 100.0]              ┆ … 9769366]          ┆ 16.0]               │\n",
       "│ 58608   ┆ [2023-04-27          ┆ [37.0, 61.0, …      ┆ [9739362, 9739179,  ┆ [2.0, 24.0, … 0.0]  │\n",
       "│         ┆ 18:48:09, 2023-04-…  ┆ null]               ┆ … 9770333]          ┆                     │\n",
       "│ 95507   ┆ [2023-04-27          ┆ [60.0, 100.0, …     ┆ [9739035, 9738646,  ┆ [18.0, 29.0, … 0.0] │\n",
       "│         ┆ 15:20:28, 2023-04-…  ┆ null]               ┆ … 9769450]          ┆                     │\n",
       "│ 106588  ┆ [2023-04-27          ┆ [24.0, 57.0, …      ┆ [9738292, 9738216,  ┆ [9.0, 15.0, … 33.0] │\n",
       "│         ┆ 08:29:09, 2023-04-…  ┆ 100.0]              ┆ … 9747803]          ┆                     │\n",
       "│ 617963  ┆ [2023-04-27          ┆ [100.0, 100.0, …    ┆ [9739035, 9739088,  ┆ [45.0, 29.0, …      │\n",
       "│         ┆ 14:42:25, 2023-04-…  ┆ 90.0]               ┆ … 9770798]          ┆ 22.0]               │\n",
       "└─────────┴──────────────────────┴─────────────────────┴─────────────────────┴─────────────────────┘"
      ]
     },
     "execution_count": 19,
     "metadata": {},
     "output_type": "execute_result"
    }
   ],
   "source": [
    "df_history.head(5).collect()"
   ]
  },
  {
   "cell_type": "code",
   "execution_count": 20,
   "metadata": {},
   "outputs": [
    {
     "data": {
      "text/html": [
       "<div><style>\n",
       ".dataframe > thead > tr,\n",
       ".dataframe > tbody > tr {\n",
       "  text-align: right;\n",
       "  white-space: pre-wrap;\n",
       "}\n",
       "</style>\n",
       "<small>shape: (5, 21)</small><table border=\"1\" class=\"dataframe\"><thead><tr><th>article_id</th><th>title</th><th>subtitle</th><th>last_modified_time</th><th>premium</th><th>body</th><th>published_time</th><th>image_ids</th><th>article_type</th><th>url</th><th>ner_clusters</th><th>entity_groups</th><th>topics</th><th>category</th><th>subcategory</th><th>category_str</th><th>total_inviews</th><th>total_pageviews</th><th>total_read_time</th><th>sentiment_score</th><th>sentiment_label</th></tr><tr><td>i32</td><td>str</td><td>str</td><td>datetime[μs]</td><td>bool</td><td>str</td><td>datetime[μs]</td><td>list[i64]</td><td>str</td><td>str</td><td>list[str]</td><td>list[str]</td><td>list[str]</td><td>i16</td><td>list[i16]</td><td>str</td><td>i32</td><td>i32</td><td>f32</td><td>f32</td><td>str</td></tr></thead><tbody><tr><td>3037230</td><td>&quot;Ishockey-spiller: Jeg troede j…</td><td>&quot;ISHOCKEY: Ishockey-spilleren S…</td><td>2023-06-29 06:20:57</td><td>false</td><td>&quot;Ambitionerne om at komme til U…</td><td>2003-08-28 08:55:00</td><td>null</td><td>&quot;article_default&quot;</td><td>&quot;https://ekstrabladet.dk/sport/…</td><td>[]</td><td>[]</td><td>[&quot;Kriminalitet&quot;, &quot;Kendt&quot;, … &quot;Mindre ulykke&quot;]</td><td>142</td><td>[327, 334]</td><td>&quot;sport&quot;</td><td>null</td><td>null</td><td>null</td><td>0.9752</td><td>&quot;Negative&quot;</td></tr><tr><td>3044020</td><td>&quot;Prins Harry tvunget til dna-te…</td><td>&quot;Hoffet tvang Prins Harry til a…</td><td>2023-06-29 06:21:16</td><td>false</td><td>&quot;Den britiske tabloidavis The S…</td><td>2005-06-29 08:47:00</td><td>[3097307, 3097197, 3104927]</td><td>&quot;article_default&quot;</td><td>&quot;https://ekstrabladet.dk/underh…</td><td>[&quot;Harry&quot;, &quot;James Hewitt&quot;]</td><td>[&quot;PER&quot;, &quot;PER&quot;]</td><td>[&quot;Kriminalitet&quot;, &quot;Kendt&quot;, … &quot;Personfarlig kriminalitet&quot;]</td><td>414</td><td>[432]</td><td>&quot;underholdning&quot;</td><td>null</td><td>null</td><td>null</td><td>0.7084</td><td>&quot;Negative&quot;</td></tr><tr><td>3057622</td><td>&quot;Rådden kørsel på blå plader&quot;</td><td>&quot;Kan ikke straffes: Udenlandske…</td><td>2023-06-29 06:21:24</td><td>false</td><td>&quot;Slingrende spritkørsel. Grove …</td><td>2005-10-10 07:20:00</td><td>[3047102]</td><td>&quot;article_default&quot;</td><td>&quot;https://ekstrabladet.dk/nyhede…</td><td>[]</td><td>[]</td><td>[&quot;Kriminalitet&quot;, &quot;Transportmiddel&quot;, &quot;Bil&quot;]</td><td>118</td><td>[133]</td><td>&quot;nyheder&quot;</td><td>null</td><td>null</td><td>null</td><td>0.9236</td><td>&quot;Negative&quot;</td></tr><tr><td>3073151</td><td>&quot;Mærsk-arvinger i livsfare&quot;</td><td>&quot;FANGET I FLODBØLGEN: Skibsrede…</td><td>2023-06-29 06:21:38</td><td>false</td><td>&quot;To oldebørn af skibsreder Mærs…</td><td>2005-01-04 06:59:00</td><td>[3067474, 3067478, 3153705]</td><td>&quot;article_default&quot;</td><td>&quot;https://ekstrabladet.dk/nyhede…</td><td>[]</td><td>[]</td><td>[&quot;Erhverv&quot;, &quot;Privat virksomhed&quot;, … &quot;Rejse&quot;]</td><td>118</td><td>[133]</td><td>&quot;nyheder&quot;</td><td>null</td><td>null</td><td>null</td><td>0.9945</td><td>&quot;Negative&quot;</td></tr><tr><td>3193383</td><td>&quot;Skød svigersøn gennem babydyne&quot;</td><td>&quot;44-årig kvinde tiltalt for dra…</td><td>2023-06-29 06:22:57</td><td>false</td><td>&quot;En 44-årig mormor blev i dag f…</td><td>2003-09-15 15:30:00</td><td>null</td><td>&quot;article_default&quot;</td><td>&quot;https://ekstrabladet.dk/krimi/…</td><td>[]</td><td>[]</td><td>[&quot;Kriminalitet&quot;, &quot;Personfarlig kriminalitet&quot;]</td><td>140</td><td>[]</td><td>&quot;krimi&quot;</td><td>null</td><td>null</td><td>null</td><td>0.9966</td><td>&quot;Negative&quot;</td></tr></tbody></table></div>"
      ],
      "text/plain": [
       "shape: (5, 21)\n",
       "┌───────────┬───────────┬───────────┬───────────┬───┬───────────┬───────────┬───────────┬──────────┐\n",
       "│ article_i ┆ title     ┆ subtitle  ┆ last_modi ┆ … ┆ total_pag ┆ total_rea ┆ sentiment ┆ sentimen │\n",
       "│ d         ┆ ---       ┆ ---       ┆ fied_time ┆   ┆ eviews    ┆ d_time    ┆ _score    ┆ t_label  │\n",
       "│ ---       ┆ str       ┆ str       ┆ ---       ┆   ┆ ---       ┆ ---       ┆ ---       ┆ ---      │\n",
       "│ i32       ┆           ┆           ┆ datetime[ ┆   ┆ i32       ┆ f32       ┆ f32       ┆ str      │\n",
       "│           ┆           ┆           ┆ μs]       ┆   ┆           ┆           ┆           ┆          │\n",
       "╞═══════════╪═══════════╪═══════════╪═══════════╪═══╪═══════════╪═══════════╪═══════════╪══════════╡\n",
       "│ 3037230   ┆ Ishockey- ┆ ISHOCKEY: ┆ 2023-06-2 ┆ … ┆ null      ┆ null      ┆ 0.9752    ┆ Negative │\n",
       "│           ┆ spiller:  ┆ Ishockey- ┆ 9         ┆   ┆           ┆           ┆           ┆          │\n",
       "│           ┆ Jeg       ┆ spilleren ┆ 06:20:57  ┆   ┆           ┆           ┆           ┆          │\n",
       "│           ┆ troede j… ┆ S…        ┆           ┆   ┆           ┆           ┆           ┆          │\n",
       "│ 3044020   ┆ Prins     ┆ Hoffet    ┆ 2023-06-2 ┆ … ┆ null      ┆ null      ┆ 0.7084    ┆ Negative │\n",
       "│           ┆ Harry     ┆ tvang     ┆ 9         ┆   ┆           ┆           ┆           ┆          │\n",
       "│           ┆ tvunget   ┆ Prins     ┆ 06:21:16  ┆   ┆           ┆           ┆           ┆          │\n",
       "│           ┆ til       ┆ Harry til ┆           ┆   ┆           ┆           ┆           ┆          │\n",
       "│           ┆ dna-te…   ┆ a…        ┆           ┆   ┆           ┆           ┆           ┆          │\n",
       "│ 3057622   ┆ Rådden    ┆ Kan ikke  ┆ 2023-06-2 ┆ … ┆ null      ┆ null      ┆ 0.9236    ┆ Negative │\n",
       "│           ┆ kørsel på ┆ straffes: ┆ 9         ┆   ┆           ┆           ┆           ┆          │\n",
       "│           ┆ blå       ┆ Udenlands ┆ 06:21:24  ┆   ┆           ┆           ┆           ┆          │\n",
       "│           ┆ plader    ┆ ke…       ┆           ┆   ┆           ┆           ┆           ┆          │\n",
       "│ 3073151   ┆ Mærsk-arv ┆ FANGET I  ┆ 2023-06-2 ┆ … ┆ null      ┆ null      ┆ 0.9945    ┆ Negative │\n",
       "│           ┆ inger i   ┆ FLODBØLGE ┆ 9         ┆   ┆           ┆           ┆           ┆          │\n",
       "│           ┆ livsfare  ┆ N: Skibsr ┆ 06:21:38  ┆   ┆           ┆           ┆           ┆          │\n",
       "│           ┆           ┆ ede…      ┆           ┆   ┆           ┆           ┆           ┆          │\n",
       "│ 3193383   ┆ Skød      ┆ 44-årig   ┆ 2023-06-2 ┆ … ┆ null      ┆ null      ┆ 0.9966    ┆ Negative │\n",
       "│           ┆ svigersøn ┆ kvinde    ┆ 9         ┆   ┆           ┆           ┆           ┆          │\n",
       "│           ┆ gennem    ┆ tiltalt   ┆ 06:22:57  ┆   ┆           ┆           ┆           ┆          │\n",
       "│           ┆ babydyne  ┆ for dra…  ┆           ┆   ┆           ┆           ┆           ┆          │\n",
       "└───────────┴───────────┴───────────┴───────────┴───┴───────────┴───────────┴───────────┴──────────┘"
      ]
     },
     "execution_count": 20,
     "metadata": {},
     "output_type": "execute_result"
    }
   ],
   "source": [
    "df_articles.head(5).collect()"
   ]
  },
  {
   "cell_type": "code",
   "execution_count": 21,
   "metadata": {},
   "outputs": [
    {
     "data": {
      "text/html": [
       "<div><style>\n",
       ".dataframe > thead > tr,\n",
       ".dataframe > tbody > tr {\n",
       "  text-align: right;\n",
       "  white-space: pre-wrap;\n",
       "}\n",
       "</style>\n",
       "<small>shape: (5, 21)</small><table border=\"1\" class=\"dataframe\"><thead><tr><th>impression_id</th><th>article_id</th><th>impression_time</th><th>read_time</th><th>scroll_percentage</th><th>device_type</th><th>article_ids_inview</th><th>article_ids_clicked</th><th>user_id</th><th>is_sso_user</th><th>gender</th><th>postcode</th><th>age</th><th>is_subscriber</th><th>session_id</th><th>next_read_time</th><th>next_scroll_percentage</th><th>impression_time_fixed</th><th>scroll_percentage_fixed</th><th>article_id_fixed</th><th>read_time_fixed</th></tr><tr><td>u32</td><td>i32</td><td>datetime[μs]</td><td>f32</td><td>f32</td><td>i8</td><td>list[i32]</td><td>list[i32]</td><td>u32</td><td>bool</td><td>i8</td><td>i8</td><td>i8</td><td>bool</td><td>u32</td><td>f32</td><td>f32</td><td>list[datetime[μs]]</td><td>list[f32]</td><td>list[i32]</td><td>list[f32]</td></tr></thead><tbody><tr><td>48401</td><td>null</td><td>2023-05-21 21:06:50</td><td>21.0</td><td>null</td><td>2</td><td>[9774516, 9771051, … 9759966]</td><td>[9759966]</td><td>22779</td><td>false</td><td>null</td><td>null</td><td>null</td><td>false</td><td>21</td><td>16.0</td><td>27.0</td><td>[2023-04-27 09:05:54, 2023-04-27 09:06:09, … 2023-05-18 06:26:39]</td><td>[28.0, 17.0, … 15.0]</td><td>[9738452, 9737521, … 9770541]</td><td>[5.0, 4.0, … 7.0]</td></tr><tr><td>152513</td><td>9778745</td><td>2023-05-24 07:31:26</td><td>30.0</td><td>100.0</td><td>1</td><td>[9778669, 9778736, … 9777397]</td><td>[9778661]</td><td>150224</td><td>false</td><td>null</td><td>null</td><td>null</td><td>false</td><td>298</td><td>2.0</td><td>48.0</td><td>[2023-04-29 11:34:06, 2023-04-29 11:34:25, … 2023-05-18 06:13:47]</td><td>[100.0, 49.0, … 24.0]</td><td>[9740087, 9741986, … 9735909]</td><td>[18.0, 244.0, … 7.0]</td></tr><tr><td>155390</td><td>null</td><td>2023-05-24 07:30:33</td><td>45.0</td><td>null</td><td>1</td><td>[9778369, 9777856, … 9778448]</td><td>[9777856]</td><td>160892</td><td>false</td><td>null</td><td>null</td><td>null</td><td>false</td><td>401</td><td>215.0</td><td>100.0</td><td>[2023-04-27 09:10:33, 2023-04-27 09:20:25, … 2023-05-17 15:51:19]</td><td>[100.0, 20.0, … 100.0]</td><td>[9738557, 9738211, … 9770178]</td><td>[583.0, 257.0, … 158.0]</td></tr><tr><td>214679</td><td>null</td><td>2023-05-23 05:25:40</td><td>33.0</td><td>null</td><td>2</td><td>[9776715, 9776406, … 9776855]</td><td>[9776566]</td><td>1001055</td><td>false</td><td>null</td><td>null</td><td>null</td><td>false</td><td>1357</td><td>40.0</td><td>47.0</td><td>[2023-04-27 12:12:45, 2023-04-27 12:13:30, … 2023-05-18 05:31:44]</td><td>[100.0, 100.0, … 28.0]</td><td>[9738777, 9738663, … 9769981]</td><td>[35.0, 62.0, … 16.0]</td></tr><tr><td>214681</td><td>null</td><td>2023-05-23 05:31:54</td><td>21.0</td><td>null</td><td>2</td><td>[9775202, 9776855, … 9776570]</td><td>[9776553]</td><td>1001055</td><td>false</td><td>null</td><td>null</td><td>null</td><td>false</td><td>1358</td><td>5.0</td><td>49.0</td><td>[2023-04-27 12:12:45, 2023-04-27 12:13:30, … 2023-05-18 05:31:44]</td><td>[100.0, 100.0, … 28.0]</td><td>[9738777, 9738663, … 9769981]</td><td>[35.0, 62.0, … 16.0]</td></tr></tbody></table></div>"
      ],
      "text/plain": [
       "shape: (5, 21)\n",
       "┌───────────┬───────────┬───────────┬───────────┬───┬───────────┬───────────┬───────────┬──────────┐\n",
       "│ impressio ┆ article_i ┆ impressio ┆ read_time ┆ … ┆ impressio ┆ scroll_pe ┆ article_i ┆ read_tim │\n",
       "│ n_id      ┆ d         ┆ n_time    ┆ ---       ┆   ┆ n_time_fi ┆ rcentage_ ┆ d_fixed   ┆ e_fixed  │\n",
       "│ ---       ┆ ---       ┆ ---       ┆ f32       ┆   ┆ xed       ┆ fixed     ┆ ---       ┆ ---      │\n",
       "│ u32       ┆ i32       ┆ datetime[ ┆           ┆   ┆ ---       ┆ ---       ┆ list[i32] ┆ list[f32 │\n",
       "│           ┆           ┆ μs]       ┆           ┆   ┆ list[date ┆ list[f32] ┆           ┆ ]        │\n",
       "│           ┆           ┆           ┆           ┆   ┆ time[μs]] ┆           ┆           ┆          │\n",
       "╞═══════════╪═══════════╪═══════════╪═══════════╪═══╪═══════════╪═══════════╪═══════════╪══════════╡\n",
       "│ 48401     ┆ null      ┆ 2023-05-2 ┆ 21.0      ┆ … ┆ [2023-04- ┆ [28.0,    ┆ [9738452, ┆ [5.0,    │\n",
       "│           ┆           ┆ 1         ┆           ┆   ┆ 27        ┆ 17.0, …   ┆ 9737521,  ┆ 4.0, …   │\n",
       "│           ┆           ┆ 21:06:50  ┆           ┆   ┆ 09:05:54, ┆ 15.0]     ┆ …         ┆ 7.0]     │\n",
       "│           ┆           ┆           ┆           ┆   ┆ 2023-04-… ┆           ┆ 9770541]  ┆          │\n",
       "│ 152513    ┆ 9778745   ┆ 2023-05-2 ┆ 30.0      ┆ … ┆ [2023-04- ┆ [100.0,   ┆ [9740087, ┆ [18.0,   │\n",
       "│           ┆           ┆ 4         ┆           ┆   ┆ 29        ┆ 49.0, …   ┆ 9741986,  ┆ 244.0, … │\n",
       "│           ┆           ┆ 07:31:26  ┆           ┆   ┆ 11:34:06, ┆ 24.0]     ┆ …         ┆ 7.0]     │\n",
       "│           ┆           ┆           ┆           ┆   ┆ 2023-04-… ┆           ┆ 9735909]  ┆          │\n",
       "│ 155390    ┆ null      ┆ 2023-05-2 ┆ 45.0      ┆ … ┆ [2023-04- ┆ [100.0,   ┆ [9738557, ┆ [583.0,  │\n",
       "│           ┆           ┆ 4         ┆           ┆   ┆ 27        ┆ 20.0, …   ┆ 9738211,  ┆ 257.0, … │\n",
       "│           ┆           ┆ 07:30:33  ┆           ┆   ┆ 09:10:33, ┆ 100.0]    ┆ …         ┆ 158.0]   │\n",
       "│           ┆           ┆           ┆           ┆   ┆ 2023-04-… ┆           ┆ 9770178]  ┆          │\n",
       "│ 214679    ┆ null      ┆ 2023-05-2 ┆ 33.0      ┆ … ┆ [2023-04- ┆ [100.0,   ┆ [9738777, ┆ [35.0,   │\n",
       "│           ┆           ┆ 3         ┆           ┆   ┆ 27        ┆ 100.0, …  ┆ 9738663,  ┆ 62.0, …  │\n",
       "│           ┆           ┆ 05:25:40  ┆           ┆   ┆ 12:12:45, ┆ 28.0]     ┆ …         ┆ 16.0]    │\n",
       "│           ┆           ┆           ┆           ┆   ┆ 2023-04-… ┆           ┆ 9769981]  ┆          │\n",
       "│ 214681    ┆ null      ┆ 2023-05-2 ┆ 21.0      ┆ … ┆ [2023-04- ┆ [100.0,   ┆ [9738777, ┆ [35.0,   │\n",
       "│           ┆           ┆ 3         ┆           ┆   ┆ 27        ┆ 100.0, …  ┆ 9738663,  ┆ 62.0, …  │\n",
       "│           ┆           ┆ 05:31:54  ┆           ┆   ┆ 12:12:45, ┆ 28.0]     ┆ …         ┆ 16.0]    │\n",
       "│           ┆           ┆           ┆           ┆   ┆ 2023-04-… ┆           ┆ 9769981]  ┆          │\n",
       "└───────────┴───────────┴───────────┴───────────┴───┴───────────┴───────────┴───────────┴──────────┘"
      ]
     },
     "execution_count": 21,
     "metadata": {},
     "output_type": "execute_result"
    }
   ],
   "source": [
    "df_full_behaviour = slice_join_dataframes(\n",
    "    df1=df_behaviors.collect(),\n",
    "    df2=df_history.collect(),\n",
    "    on=DEFAULT_USER_COL,\n",
    "    how=\"left\",\n",
    ")\n",
    "df_full_behaviour.head(5)"
   ]
  },
  {
   "cell_type": "code",
   "execution_count": 21,
   "metadata": {},
   "outputs": [],
   "source": [
    "# Now select row at index 1\n",
    "row = 1\n",
    "select_row = df_full_behaviour[row]\n"
   ]
  },
  {
   "cell_type": "code",
   "execution_count": 57,
   "metadata": {},
   "outputs": [],
   "source": [
    "import importlib\n",
    "import NeRD_data as NeRD_data\n",
    "importlib.reload(NeRD_data)\n",
    "\n",
    "from NeRD_data import EB_NeRDDataset\n",
    "from torch.utils.data import DataLoader"
   ]
  },
  {
   "cell_type": "code",
   "execution_count": 58,
   "metadata": {},
   "outputs": [],
   "source": [
    "from transformers import BertTokenizer\n",
    "import yaml\n",
    "with open('./config.yaml') as f:\n",
    "    cfg = yaml.safe_load(f)"
   ]
  },
  {
   "cell_type": "code",
   "execution_count": 56,
   "metadata": {},
   "outputs": [
    {
     "ename": "ColumnNotFoundError",
     "evalue": "labels",
     "output_type": "error",
     "traceback": [
      "\u001b[0;31m---------------------------------------------------------------------------\u001b[0m",
      "\u001b[0;31mColumnNotFoundError\u001b[0m                       Traceback (most recent call last)",
      "\u001b[0;32m/var/folders/nx/hx2w9cz54ld7nk_jw602tqdw0000gn/T/ipykernel_78674/3329181360.py\u001b[0m in \u001b[0;36m?\u001b[0;34m()\u001b[0m\n\u001b[1;32m      1\u001b[0m \u001b[0mtokenizer\u001b[0m \u001b[0;34m=\u001b[0m \u001b[0mBertTokenizer\u001b[0m\u001b[0;34m.\u001b[0m\u001b[0mfrom_pretrained\u001b[0m\u001b[0;34m(\u001b[0m\u001b[0mcfg\u001b[0m\u001b[0;34m[\u001b[0m\u001b[0;34m'model'\u001b[0m\u001b[0;34m]\u001b[0m\u001b[0;34m[\u001b[0m\u001b[0;34m'pretrained_model_name'\u001b[0m\u001b[0;34m]\u001b[0m\u001b[0;34m)\u001b[0m\u001b[0;34m\u001b[0m\u001b[0;34m\u001b[0m\u001b[0m\n\u001b[0;32m----> 2\u001b[0;31m \u001b[0mdataset\u001b[0m \u001b[0;34m=\u001b[0m \u001b[0mEB_NeRDDataset\u001b[0m\u001b[0;34m(\u001b[0m\u001b[0mtokenizer\u001b[0m\u001b[0;34m,\u001b[0m \u001b[0;34m**\u001b[0m\u001b[0mcfg\u001b[0m\u001b[0;34m[\u001b[0m\u001b[0;34m'dataset'\u001b[0m\u001b[0;34m]\u001b[0m\u001b[0;34m)\u001b[0m\u001b[0;34m\u001b[0m\u001b[0;34m\u001b[0m\u001b[0m\n\u001b[0m\u001b[1;32m      3\u001b[0m \u001b[0mdataloader\u001b[0m \u001b[0;34m=\u001b[0m \u001b[0mDataLoader\u001b[0m\u001b[0;34m(\u001b[0m\u001b[0mdataset\u001b[0m\u001b[0;34m,\u001b[0m \u001b[0mbatch_size\u001b[0m\u001b[0;34m=\u001b[0m\u001b[0;36m2\u001b[0m\u001b[0;34m,\u001b[0m \u001b[0mshuffle\u001b[0m\u001b[0;34m=\u001b[0m\u001b[0;32mTrue\u001b[0m\u001b[0;34m)\u001b[0m\u001b[0;34m\u001b[0m\u001b[0;34m\u001b[0m\u001b[0m\n",
      "\u001b[0;32m~/Library/CloudStorage/GoogleDrive-jasper.eppink@gmail.com/My Drive/Documents/school/Master/AI/Jaar 1/Recommender Systems/Git project/RecSys/src/mtrec/NeRD_data.py\u001b[0m in \u001b[0;36m?\u001b[0;34m(self, tokenizer, neg_sampling, split, **kwargs)\u001b[0m\n\u001b[1;32m     40\u001b[0m         \u001b[0;31m# Now create the X and y\u001b[0m\u001b[0;34m\u001b[0m\u001b[0;34m\u001b[0m\u001b[0m\n\u001b[1;32m     41\u001b[0m         self.X = self.df_behaviors.drop('labels').with_columns(\n\u001b[1;32m     42\u001b[0m             \u001b[0mpl\u001b[0m\u001b[0;34m.\u001b[0m\u001b[0mcol\u001b[0m\u001b[0;34m(\u001b[0m\u001b[0;34m'article_ids_inview'\u001b[0m\u001b[0;34m)\u001b[0m\u001b[0;34m.\u001b[0m\u001b[0mlist\u001b[0m\u001b[0;34m.\u001b[0m\u001b[0mlen\u001b[0m\u001b[0;34m(\u001b[0m\u001b[0;34m)\u001b[0m\u001b[0;34m.\u001b[0m\u001b[0malias\u001b[0m\u001b[0;34m(\u001b[0m\u001b[0;34m'n_samples'\u001b[0m\u001b[0;34m)\u001b[0m\u001b[0;34m\u001b[0m\u001b[0;34m\u001b[0m\u001b[0m\n\u001b[1;32m     43\u001b[0m         )\n\u001b[0;32m---> 44\u001b[0;31m         \u001b[0mself\u001b[0m\u001b[0;34m.\u001b[0m\u001b[0my\u001b[0m \u001b[0;34m=\u001b[0m \u001b[0mself\u001b[0m\u001b[0;34m.\u001b[0m\u001b[0mdf_behaviors\u001b[0m\u001b[0;34m[\u001b[0m\u001b[0;34m'labels'\u001b[0m\u001b[0;34m]\u001b[0m\u001b[0;34m\u001b[0m\u001b[0;34m\u001b[0m\u001b[0m\n\u001b[0m",
      "\u001b[0;32m~/opt/anaconda3/envs/recsys/lib/python3.11/site-packages/polars/dataframe/frame.py\u001b[0m in \u001b[0;36m?\u001b[0;34m(self, key)\u001b[0m\n\u001b[1;32m   1103\u001b[0m             \u001b[0;34m|\u001b[0m \u001b[0mtuple\u001b[0m\u001b[0;34m[\u001b[0m\u001b[0mMultiIndexSelector\u001b[0m\u001b[0;34m,\u001b[0m \u001b[0mMultiColSelector\u001b[0m\u001b[0;34m]\u001b[0m\u001b[0;34m\u001b[0m\u001b[0;34m\u001b[0m\u001b[0m\n\u001b[1;32m   1104\u001b[0m         ),\n\u001b[1;32m   1105\u001b[0m     ) -> DataFrame | Series | Any:\n\u001b[1;32m   1106\u001b[0m         \u001b[0;34m\"\"\"Get part of the DataFrame as a new DataFrame, Series, or scalar.\"\"\"\u001b[0m\u001b[0;34m\u001b[0m\u001b[0;34m\u001b[0m\u001b[0m\n\u001b[0;32m-> 1107\u001b[0;31m         \u001b[0;32mreturn\u001b[0m \u001b[0mget_df_item_by_key\u001b[0m\u001b[0;34m(\u001b[0m\u001b[0mself\u001b[0m\u001b[0;34m,\u001b[0m \u001b[0mkey\u001b[0m\u001b[0;34m)\u001b[0m\u001b[0;34m\u001b[0m\u001b[0;34m\u001b[0m\u001b[0m\n\u001b[0m",
      "\u001b[0;32m~/opt/anaconda3/envs/recsys/lib/python3.11/site-packages/polars/_utils/getitem.py\u001b[0m in \u001b[0;36m?\u001b[0;34m(df, key)\u001b[0m\n\u001b[1;32m    148\u001b[0m     \u001b[0;31m# Single string input, e.g. df[\"a\"]\u001b[0m\u001b[0;34m\u001b[0m\u001b[0;34m\u001b[0m\u001b[0m\n\u001b[1;32m    149\u001b[0m     \u001b[0;32mif\u001b[0m \u001b[0misinstance\u001b[0m\u001b[0;34m(\u001b[0m\u001b[0mkey\u001b[0m\u001b[0;34m,\u001b[0m \u001b[0mstr\u001b[0m\u001b[0;34m)\u001b[0m\u001b[0;34m:\u001b[0m\u001b[0;34m\u001b[0m\u001b[0;34m\u001b[0m\u001b[0m\n\u001b[1;32m    150\u001b[0m         \u001b[0;31m# This case is required because empty strings are otherwise treated\u001b[0m\u001b[0;34m\u001b[0m\u001b[0;34m\u001b[0m\u001b[0m\n\u001b[1;32m    151\u001b[0m         \u001b[0;31m# as an empty Sequence in `_select_rows`\u001b[0m\u001b[0;34m\u001b[0m\u001b[0;34m\u001b[0m\u001b[0m\n\u001b[0;32m--> 152\u001b[0;31m         \u001b[0;32mreturn\u001b[0m \u001b[0mdf\u001b[0m\u001b[0;34m.\u001b[0m\u001b[0mget_column\u001b[0m\u001b[0;34m(\u001b[0m\u001b[0mkey\u001b[0m\u001b[0;34m)\u001b[0m\u001b[0;34m\u001b[0m\u001b[0;34m\u001b[0m\u001b[0m\n\u001b[0m\u001b[1;32m    153\u001b[0m \u001b[0;34m\u001b[0m\u001b[0m\n\u001b[1;32m    154\u001b[0m     \u001b[0;31m# Single input - df[1] - or multiple inputs - df[\"a\", \"b\", \"c\"]\u001b[0m\u001b[0;34m\u001b[0m\u001b[0;34m\u001b[0m\u001b[0m\n\u001b[1;32m    155\u001b[0m     \u001b[0;32mtry\u001b[0m\u001b[0;34m:\u001b[0m\u001b[0;34m\u001b[0m\u001b[0;34m\u001b[0m\u001b[0m\n",
      "\u001b[0;32m~/opt/anaconda3/envs/recsys/lib/python3.11/site-packages/polars/dataframe/frame.py\u001b[0m in \u001b[0;36m?\u001b[0;34m(self, name)\u001b[0m\n\u001b[1;32m   7353\u001b[0m                 \u001b[0;36m2\u001b[0m\u001b[0;34m\u001b[0m\u001b[0;34m\u001b[0m\u001b[0m\n\u001b[1;32m   7354\u001b[0m                 \u001b[0;36m3\u001b[0m\u001b[0;34m\u001b[0m\u001b[0;34m\u001b[0m\u001b[0m\n\u001b[1;32m   7355\u001b[0m         ]\n\u001b[1;32m   7356\u001b[0m         \"\"\"\n\u001b[0;32m-> 7357\u001b[0;31m         \u001b[0;32mreturn\u001b[0m \u001b[0mwrap_s\u001b[0m\u001b[0;34m(\u001b[0m\u001b[0mself\u001b[0m\u001b[0;34m.\u001b[0m\u001b[0m_df\u001b[0m\u001b[0;34m.\u001b[0m\u001b[0mget_column\u001b[0m\u001b[0;34m(\u001b[0m\u001b[0mname\u001b[0m\u001b[0;34m)\u001b[0m\u001b[0;34m)\u001b[0m\u001b[0;34m\u001b[0m\u001b[0;34m\u001b[0m\u001b[0m\n\u001b[0m",
      "\u001b[0;31mColumnNotFoundError\u001b[0m: labels"
     ]
    }
   ],
   "source": [
    "tokenizer = BertTokenizer.from_pretrained(cfg['model']['pretrained_model_name'])\n",
    "dataset = EB_NeRDDataset(tokenizer, **cfg['dataset'])\n",
    "dataloader = DataLoader(dataset, batch_size=2, shuffle=True)"
   ]
  },
  {
   "cell_type": "code",
   "execution_count": 28,
   "metadata": {},
   "outputs": [
    {
     "ename": "TypeError",
     "evalue": "default_collate: batch must contain tensors, numpy arrays, numbers, dicts or lists; found <class 'polars.series.series.Series'>",
     "output_type": "error",
     "traceback": [
      "\u001b[0;31m---------------------------------------------------------------------------\u001b[0m",
      "\u001b[0;31mTypeError\u001b[0m                                 Traceback (most recent call last)",
      "Cell \u001b[0;32mIn[28], line 1\u001b[0m\n\u001b[0;32m----> 1\u001b[0m x \u001b[38;5;241m=\u001b[39m \u001b[38;5;28;43mnext\u001b[39;49m\u001b[43m(\u001b[49m\u001b[38;5;28;43miter\u001b[39;49m\u001b[43m(\u001b[49m\u001b[43mdataloader\u001b[49m\u001b[43m)\u001b[49m\u001b[43m)\u001b[49m\n",
      "File \u001b[0;32m~/opt/anaconda3/envs/recsys/lib/python3.11/site-packages/torch/utils/data/dataloader.py:631\u001b[0m, in \u001b[0;36m_BaseDataLoaderIter.__next__\u001b[0;34m(self)\u001b[0m\n\u001b[1;32m    628\u001b[0m \u001b[38;5;28;01mif\u001b[39;00m \u001b[38;5;28mself\u001b[39m\u001b[38;5;241m.\u001b[39m_sampler_iter \u001b[38;5;129;01mis\u001b[39;00m \u001b[38;5;28;01mNone\u001b[39;00m:\n\u001b[1;32m    629\u001b[0m     \u001b[38;5;66;03m# TODO(https://github.com/pytorch/pytorch/issues/76750)\u001b[39;00m\n\u001b[1;32m    630\u001b[0m     \u001b[38;5;28mself\u001b[39m\u001b[38;5;241m.\u001b[39m_reset()  \u001b[38;5;66;03m# type: ignore[call-arg]\u001b[39;00m\n\u001b[0;32m--> 631\u001b[0m data \u001b[38;5;241m=\u001b[39m \u001b[38;5;28;43mself\u001b[39;49m\u001b[38;5;241;43m.\u001b[39;49m\u001b[43m_next_data\u001b[49m\u001b[43m(\u001b[49m\u001b[43m)\u001b[49m\n\u001b[1;32m    632\u001b[0m \u001b[38;5;28mself\u001b[39m\u001b[38;5;241m.\u001b[39m_num_yielded \u001b[38;5;241m+\u001b[39m\u001b[38;5;241m=\u001b[39m \u001b[38;5;241m1\u001b[39m\n\u001b[1;32m    633\u001b[0m \u001b[38;5;28;01mif\u001b[39;00m \u001b[38;5;28mself\u001b[39m\u001b[38;5;241m.\u001b[39m_dataset_kind \u001b[38;5;241m==\u001b[39m _DatasetKind\u001b[38;5;241m.\u001b[39mIterable \u001b[38;5;129;01mand\u001b[39;00m \\\n\u001b[1;32m    634\u001b[0m         \u001b[38;5;28mself\u001b[39m\u001b[38;5;241m.\u001b[39m_IterableDataset_len_called \u001b[38;5;129;01mis\u001b[39;00m \u001b[38;5;129;01mnot\u001b[39;00m \u001b[38;5;28;01mNone\u001b[39;00m \u001b[38;5;129;01mand\u001b[39;00m \\\n\u001b[1;32m    635\u001b[0m         \u001b[38;5;28mself\u001b[39m\u001b[38;5;241m.\u001b[39m_num_yielded \u001b[38;5;241m>\u001b[39m \u001b[38;5;28mself\u001b[39m\u001b[38;5;241m.\u001b[39m_IterableDataset_len_called:\n",
      "File \u001b[0;32m~/opt/anaconda3/envs/recsys/lib/python3.11/site-packages/torch/utils/data/dataloader.py:675\u001b[0m, in \u001b[0;36m_SingleProcessDataLoaderIter._next_data\u001b[0;34m(self)\u001b[0m\n\u001b[1;32m    673\u001b[0m \u001b[38;5;28;01mdef\u001b[39;00m \u001b[38;5;21m_next_data\u001b[39m(\u001b[38;5;28mself\u001b[39m):\n\u001b[1;32m    674\u001b[0m     index \u001b[38;5;241m=\u001b[39m \u001b[38;5;28mself\u001b[39m\u001b[38;5;241m.\u001b[39m_next_index()  \u001b[38;5;66;03m# may raise StopIteration\u001b[39;00m\n\u001b[0;32m--> 675\u001b[0m     data \u001b[38;5;241m=\u001b[39m \u001b[38;5;28;43mself\u001b[39;49m\u001b[38;5;241;43m.\u001b[39;49m\u001b[43m_dataset_fetcher\u001b[49m\u001b[38;5;241;43m.\u001b[39;49m\u001b[43mfetch\u001b[49m\u001b[43m(\u001b[49m\u001b[43mindex\u001b[49m\u001b[43m)\u001b[49m  \u001b[38;5;66;03m# may raise StopIteration\u001b[39;00m\n\u001b[1;32m    676\u001b[0m     \u001b[38;5;28;01mif\u001b[39;00m \u001b[38;5;28mself\u001b[39m\u001b[38;5;241m.\u001b[39m_pin_memory:\n\u001b[1;32m    677\u001b[0m         data \u001b[38;5;241m=\u001b[39m _utils\u001b[38;5;241m.\u001b[39mpin_memory\u001b[38;5;241m.\u001b[39mpin_memory(data, \u001b[38;5;28mself\u001b[39m\u001b[38;5;241m.\u001b[39m_pin_memory_device)\n",
      "File \u001b[0;32m~/opt/anaconda3/envs/recsys/lib/python3.11/site-packages/torch/utils/data/_utils/fetch.py:54\u001b[0m, in \u001b[0;36m_MapDatasetFetcher.fetch\u001b[0;34m(self, possibly_batched_index)\u001b[0m\n\u001b[1;32m     52\u001b[0m \u001b[38;5;28;01melse\u001b[39;00m:\n\u001b[1;32m     53\u001b[0m     data \u001b[38;5;241m=\u001b[39m \u001b[38;5;28mself\u001b[39m\u001b[38;5;241m.\u001b[39mdataset[possibly_batched_index]\n\u001b[0;32m---> 54\u001b[0m \u001b[38;5;28;01mreturn\u001b[39;00m \u001b[38;5;28;43mself\u001b[39;49m\u001b[38;5;241;43m.\u001b[39;49m\u001b[43mcollate_fn\u001b[49m\u001b[43m(\u001b[49m\u001b[43mdata\u001b[49m\u001b[43m)\u001b[49m\n",
      "File \u001b[0;32m~/opt/anaconda3/envs/recsys/lib/python3.11/site-packages/torch/utils/data/_utils/collate.py:277\u001b[0m, in \u001b[0;36mdefault_collate\u001b[0;34m(batch)\u001b[0m\n\u001b[1;32m    216\u001b[0m \u001b[38;5;28;01mdef\u001b[39;00m \u001b[38;5;21mdefault_collate\u001b[39m(batch):\n\u001b[1;32m    217\u001b[0m \u001b[38;5;250m    \u001b[39m\u001b[38;5;124mr\u001b[39m\u001b[38;5;124;03m\"\"\"\u001b[39;00m\n\u001b[1;32m    218\u001b[0m \u001b[38;5;124;03m    Take in a batch of data and put the elements within the batch into a tensor with an additional outer dimension - batch size.\u001b[39;00m\n\u001b[1;32m    219\u001b[0m \n\u001b[0;32m   (...)\u001b[0m\n\u001b[1;32m    275\u001b[0m \u001b[38;5;124;03m        >>> default_collate(batch)  # Handle `CustomType` automatically\u001b[39;00m\n\u001b[1;32m    276\u001b[0m \u001b[38;5;124;03m    \"\"\"\u001b[39;00m\n\u001b[0;32m--> 277\u001b[0m     \u001b[38;5;28;01mreturn\u001b[39;00m \u001b[43mcollate\u001b[49m\u001b[43m(\u001b[49m\u001b[43mbatch\u001b[49m\u001b[43m,\u001b[49m\u001b[43m \u001b[49m\u001b[43mcollate_fn_map\u001b[49m\u001b[38;5;241;43m=\u001b[39;49m\u001b[43mdefault_collate_fn_map\u001b[49m\u001b[43m)\u001b[49m\n",
      "File \u001b[0;32m~/opt/anaconda3/envs/recsys/lib/python3.11/site-packages/torch/utils/data/_utils/collate.py:144\u001b[0m, in \u001b[0;36mcollate\u001b[0;34m(batch, collate_fn_map)\u001b[0m\n\u001b[1;32m    141\u001b[0m transposed \u001b[38;5;241m=\u001b[39m \u001b[38;5;28mlist\u001b[39m(\u001b[38;5;28mzip\u001b[39m(\u001b[38;5;241m*\u001b[39mbatch))  \u001b[38;5;66;03m# It may be accessed twice, so we use a list.\u001b[39;00m\n\u001b[1;32m    143\u001b[0m \u001b[38;5;28;01mif\u001b[39;00m \u001b[38;5;28misinstance\u001b[39m(elem, \u001b[38;5;28mtuple\u001b[39m):\n\u001b[0;32m--> 144\u001b[0m     \u001b[38;5;28;01mreturn\u001b[39;00m \u001b[43m[\u001b[49m\u001b[43mcollate\u001b[49m\u001b[43m(\u001b[49m\u001b[43msamples\u001b[49m\u001b[43m,\u001b[49m\u001b[43m \u001b[49m\u001b[43mcollate_fn_map\u001b[49m\u001b[38;5;241;43m=\u001b[39;49m\u001b[43mcollate_fn_map\u001b[49m\u001b[43m)\u001b[49m\u001b[43m \u001b[49m\u001b[38;5;28;43;01mfor\u001b[39;49;00m\u001b[43m \u001b[49m\u001b[43msamples\u001b[49m\u001b[43m \u001b[49m\u001b[38;5;129;43;01min\u001b[39;49;00m\u001b[43m \u001b[49m\u001b[43mtransposed\u001b[49m\u001b[43m]\u001b[49m  \u001b[38;5;66;03m# Backwards compatibility.\u001b[39;00m\n\u001b[1;32m    145\u001b[0m \u001b[38;5;28;01melse\u001b[39;00m:\n\u001b[1;32m    146\u001b[0m     \u001b[38;5;28;01mtry\u001b[39;00m:\n",
      "File \u001b[0;32m~/opt/anaconda3/envs/recsys/lib/python3.11/site-packages/torch/utils/data/_utils/collate.py:144\u001b[0m, in \u001b[0;36m<listcomp>\u001b[0;34m(.0)\u001b[0m\n\u001b[1;32m    141\u001b[0m transposed \u001b[38;5;241m=\u001b[39m \u001b[38;5;28mlist\u001b[39m(\u001b[38;5;28mzip\u001b[39m(\u001b[38;5;241m*\u001b[39mbatch))  \u001b[38;5;66;03m# It may be accessed twice, so we use a list.\u001b[39;00m\n\u001b[1;32m    143\u001b[0m \u001b[38;5;28;01mif\u001b[39;00m \u001b[38;5;28misinstance\u001b[39m(elem, \u001b[38;5;28mtuple\u001b[39m):\n\u001b[0;32m--> 144\u001b[0m     \u001b[38;5;28;01mreturn\u001b[39;00m [\u001b[43mcollate\u001b[49m\u001b[43m(\u001b[49m\u001b[43msamples\u001b[49m\u001b[43m,\u001b[49m\u001b[43m \u001b[49m\u001b[43mcollate_fn_map\u001b[49m\u001b[38;5;241;43m=\u001b[39;49m\u001b[43mcollate_fn_map\u001b[49m\u001b[43m)\u001b[49m \u001b[38;5;28;01mfor\u001b[39;00m samples \u001b[38;5;129;01min\u001b[39;00m transposed]  \u001b[38;5;66;03m# Backwards compatibility.\u001b[39;00m\n\u001b[1;32m    145\u001b[0m \u001b[38;5;28;01melse\u001b[39;00m:\n\u001b[1;32m    146\u001b[0m     \u001b[38;5;28;01mtry\u001b[39;00m:\n",
      "File \u001b[0;32m~/opt/anaconda3/envs/recsys/lib/python3.11/site-packages/torch/utils/data/_utils/collate.py:152\u001b[0m, in \u001b[0;36mcollate\u001b[0;34m(batch, collate_fn_map)\u001b[0m\n\u001b[1;32m    148\u001b[0m         \u001b[38;5;28;01mexcept\u001b[39;00m \u001b[38;5;167;01mTypeError\u001b[39;00m:\n\u001b[1;32m    149\u001b[0m             \u001b[38;5;66;03m# The sequence type may not support `__init__(iterable)` (e.g., `range`).\u001b[39;00m\n\u001b[1;32m    150\u001b[0m             \u001b[38;5;28;01mreturn\u001b[39;00m [collate(samples, collate_fn_map\u001b[38;5;241m=\u001b[39mcollate_fn_map) \u001b[38;5;28;01mfor\u001b[39;00m samples \u001b[38;5;129;01min\u001b[39;00m transposed]\n\u001b[0;32m--> 152\u001b[0m \u001b[38;5;28;01mraise\u001b[39;00m \u001b[38;5;167;01mTypeError\u001b[39;00m(default_collate_err_msg_format\u001b[38;5;241m.\u001b[39mformat(elem_type))\n",
      "\u001b[0;31mTypeError\u001b[0m: default_collate: batch must contain tensors, numpy arrays, numbers, dicts or lists; found <class 'polars.series.series.Series'>"
     ]
    }
   ],
   "source": [
    "x = next(iter(dataloader))"
   ]
  }
 ],
 "metadata": {
  "kernelspec": {
   "display_name": "recsys",
   "language": "python",
   "name": "python3"
  },
  "language_info": {
   "codemirror_mode": {
    "name": "ipython",
    "version": 3
   },
   "file_extension": ".py",
   "mimetype": "text/x-python",
   "name": "python",
   "nbconvert_exporter": "python",
   "pygments_lexer": "ipython3",
   "version": "3.11.9"
  }
 },
 "nbformat": 4,
 "nbformat_minor": 2
}
